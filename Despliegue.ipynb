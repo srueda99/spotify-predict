{
 "cells": [
  {
   "cell_type": "markdown",
   "id": "ddfef5e0",
   "metadata": {},
   "source": [
    "# DESPLIEGUE SPOTIFY CON INTERFAZ GRÁFICA"
   ]
  },
  {
   "cell_type": "markdown",
   "id": "e94d698d",
   "metadata": {},
   "source": [
    "En este notebook, se hará el despliegue con interfaz gráfica para se pueda jugar con los parámetros y ver si una canción le gustará o no al usuario, basado en los gustos ya establecidos en el dataset.\n",
    "Para realizar la interfaz gráfica se usará la librería de Streamlit."
   ]
  },
  {
   "cell_type": "markdown",
   "id": "5a3d7f54",
   "metadata": {},
   "source": [
    "## SE CARGA EL MODELO"
   ]
  },
  {
   "cell_type": "code",
   "execution_count": 2,
   "id": "64a69944",
   "metadata": {},
   "outputs": [],
   "source": [
    "# Imports\n",
    "import pandas as pd\n",
    "import numpy as np\n",
    "import matplotlib.pyplot as plt\n",
    "import pickle\n",
    "import streamlit as st"
   ]
  },
  {
   "cell_type": "code",
   "execution_count": null,
   "id": "ddb28f3b",
   "metadata": {},
   "outputs": [],
   "source": [
    "# Cargar modelo y variables\n",
    "filename = 'RandomForest.pkl'\n",
    "modelRF, labelencoder, variables = pickle.load(open(filename, 'rb'))"
   ]
  },
  {
   "cell_type": "markdown",
   "id": "4b7442df",
   "metadata": {},
   "source": [
    "## CREACIÓN DEL HTML"
   ]
  },
  {
   "cell_type": "code",
   "execution_count": null,
   "id": "5816da82",
   "metadata": {},
   "outputs": [],
   "source": [
    "# Estilos personalizados en Streamlit\n",
    "st.set_page_config(page_title=\"Spotify Recommender\", layout = \"centered\")\n",
    "\n",
    "# CSS para estilo Spotify\n",
    "st.markdown(\"\"\"\n",
    "    <style>\n",
    "        body {\n",
    "            background-color: #121212;\n",
    "            color: white;\n",
    "        }\n",
    "        .stSlider > div {\n",
    "            color: #1DB954; /* verde Spotify */\n",
    "        }\n",
    "        .stSlider .css-14pt78w, .stSlider .css-1l6qdhw {\n",
    "            color: white;\n",
    "        }\n",
    "        .stSelectbox > div {\n",
    "            color: white;\n",
    "        }\n",
    "        .stApp {\n",
    "            background-color: #121212;\n",
    "        }\n",
    "        footer {visibility: hidden;}\n",
    "    </style>\n",
    "\"\"\", unsafe_allow_html = True)\n",
    "\n",
    "# Imagen/logo\n",
    "st.image(\"spotify_logo.png\", width = 200)\n",
    "\n",
    "# Título\n",
    "st.title('🎧 Recomendador de Canciones')\n",
    "\n",
    "# Inputs\n",
    "daceability = st.slider('Bailabilidad 💃', 0.0, 1.0, 0.5, 0.1)\n",
    "loudness = st.slider('Ruido 🔊', -60, 0, -30, 1)\n",
    "speechiness = st.slider('Contenido hablado 🗣', 0.0, 1.0, 0.5, 0.1)\n",
    "acousticness = st.slider('Acústica 🎸', 0.0, 1.0, 0.5, 0.1)\n",
    "valence = st.slider('Valencia 😄', 0.0, 1.0, 0.5, 0.1)\n",
    "tempo = st.slider('Tempo ⌛️', 0, 200, 100, 5)\n",
    "duration = st.slider('Duración en ms 🕑', 0, 500000, 120000, 1000)\n",
    "time_signature = st.selectbox('Compás 🎼', ['1', '3', '4', '5'])\n",
    "\n",
    "# Crear DataFrame de entrada\n",
    "datos = [[daceability, loudness, speechiness, acousticness, valence, tempo, duration, time_signature]]\n",
    "data = pd.DataFrame(datos, columns = ['daceability', 'loudness', 'speechiness','acousticness', 'valence', 'tempo', 'duration_ms', 'time_signature'])"
   ]
  },
  {
   "cell_type": "markdown",
   "id": "b783cefa",
   "metadata": {},
   "source": [
    "## PREPARACIÓN"
   ]
  },
  {
   "cell_type": "code",
   "execution_count": null,
   "id": "41ac20cb",
   "metadata": {},
   "outputs": [],
   "source": [
    "# Reordenar columnas para coincidir con el modelo\n",
    "data_preparada = data.copy()\n",
    "data_preparada = data_preparada.reindex(columns = variables, fill_value=0)"
   ]
  },
  {
   "cell_type": "markdown",
   "id": "f5d8d09f",
   "metadata": {},
   "source": [
    "## PREDICCIÓN"
   ]
  },
  {
   "cell_type": "code",
   "execution_count": null,
   "id": "81b031fe",
   "metadata": {},
   "outputs": [],
   "source": [
    "# Predicción\n",
    "Y_fut = modelRF.predict(data_preparada)\n",
    "data['⚡️ Resultado'] = labelencoder.inverse_transform(Y_fut)"
   ]
  },
  {
   "cell_type": "code",
   "execution_count": null,
   "id": "5981556f",
   "metadata": {},
   "outputs": [],
   "source": [
    "# Resultado\n",
    "st.subheader('Resultado de la Recomendación:')\n",
    "st.dataframe(data, use_container_width = True)"
   ]
  },
  {
   "cell_type": "markdown",
   "id": "30025fd6",
   "metadata": {},
   "source": [
    "### Corre el servidor de Streamlit"
   ]
  },
  {
   "cell_type": "code",
   "execution_count": null,
   "id": "2415174b",
   "metadata": {},
   "outputs": [],
   "source": [
    "!streamlit run app.py"
   ]
  }
 ],
 "metadata": {
  "kernelspec": {
   "display_name": ".venv",
   "language": "python",
   "name": "python3"
  },
  "language_info": {
   "codemirror_mode": {
    "name": "ipython",
    "version": 3
   },
   "file_extension": ".py",
   "mimetype": "text/x-python",
   "name": "python",
   "nbconvert_exporter": "python",
   "pygments_lexer": "ipython3",
   "version": "3.11.9"
  }
 },
 "nbformat": 4,
 "nbformat_minor": 5
}
