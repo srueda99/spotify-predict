{
 "cells": [
  {
   "cell_type": "markdown",
   "id": "ddfef5e0",
   "metadata": {},
   "source": [
    "# DESPLIEGUE SPOTIFY CON INTERFAZ GRÁFICA"
   ]
  },
  {
   "cell_type": "markdown",
   "id": "e94d698d",
   "metadata": {},
   "source": [
    "En este notebook, se hará el despliegue con interfaz gráfica para se pueda jugar con los parámetros y ver si una canción le gustará o no al usuario, basado en los gustos ya establecidos en el dataset.\n",
    "Para realizar la interfaz gráfica se usará la librería de Streamlit."
   ]
  },
  {
   "cell_type": "markdown",
   "id": "5a3d7f54",
   "metadata": {},
   "source": [
    "## SE CARGA EL MODELO"
   ]
  },
  {
   "cell_type": "code",
   "execution_count": 2,
   "id": "64a69944",
   "metadata": {},
   "outputs": [],
   "source": [
    "# Imports\n",
    "import pandas as pd\n",
    "import numpy as np\n",
    "import matplotlib.pyplot as plt\n",
    "import pickle\n",
    "import streamlit as st"
   ]
  },
  {
   "cell_type": "code",
   "execution_count": null,
   "id": "ddb28f3b",
   "metadata": {},
   "outputs": [],
   "source": [
    "# Cargamos el modelo de Random Forest\n",
    "filename = 'RandomForest.pkl'\n",
    "modelRF, labelencoder, variables = pickle.load(open(filename, 'rb'))"
   ]
  },
  {
   "cell_type": "markdown",
   "id": "4b7442df",
   "metadata": {},
   "source": [
    "## CREACIÓN DEL HTML"
   ]
  },
  {
   "cell_type": "code",
   "execution_count": null,
   "id": "5816da82",
   "metadata": {},
   "outputs": [],
   "source": [
    "# Título\n",
    "st.title('🎧 Sistema de Recomendaciones de Spotify')\n",
    "\n",
    "# Sliders para entrada del usuario\n",
    "daceability = st.slider('Bailabilidad', 0.0, 1.0, 0.5, 0.1)\n",
    "loudness = st.slider('Ruido', 0.0, 1.0, 0.5, 0.1)\n",
    "speechiness = st.slider('Contenido hablado', 0.0, 1.0, 0.5, 0.1)\n",
    "valence = st.slider('Valence (Alegría)', 0.0, 1.0, 0.5, 0.1)\n",
    "tempo = st.slider('Tempo', 0.0, 1.0, 0.5, 0.1)\n",
    "time_signature = st.selectbox('Tipo de acorde', ['0', '1', '2', '3'])\n",
    "\n",
    "# Crear DataFrame\n",
    "datos = [[daceability, loudness, speechiness, valence, tempo, time_signature]]\n",
    "data = pd.DataFrame(datos, columns=['daceability', 'loudness', 'speechiness', 'valence', 'tempo', 'time_signature'])"
   ]
  },
  {
   "cell_type": "markdown",
   "id": "b783cefa",
   "metadata": {},
   "source": [
    "## PREPARACIÓN"
   ]
  },
  {
   "cell_type": "code",
   "execution_count": null,
   "id": "41ac20cb",
   "metadata": {},
   "outputs": [],
   "source": [
    "# Reordenar columnas según variables esperadas por el modelo\n",
    "data_preparada = data.copy()\n",
    "data_preparada = data_preparada.reindex(columns=variables, fill_value=0)"
   ]
  },
  {
   "cell_type": "markdown",
   "id": "f5d8d09f",
   "metadata": {},
   "source": [
    "## PREDICCIÓN"
   ]
  },
  {
   "cell_type": "code",
   "execution_count": null,
   "id": "81b031fe",
   "metadata": {},
   "outputs": [],
   "source": [
    "# Hacemos la predicción usando el modelo\n",
    "Y_fut = modelRF.predict(data_preparada)\n",
    "data['Recomendación'] = labelencoder.inverse_transform(Y_fut)"
   ]
  },
  {
   "cell_type": "code",
   "execution_count": null,
   "id": "5981556f",
   "metadata": {},
   "outputs": [],
   "source": [
    "# Mostrar resultado\n",
    "st.subheader('Resultado de la Recomendación:')\n",
    "st.write(data)"
   ]
  }
 ],
 "metadata": {
  "kernelspec": {
   "display_name": ".venv",
   "language": "python",
   "name": "python3"
  },
  "language_info": {
   "codemirror_mode": {
    "name": "ipython",
    "version": 3
   },
   "file_extension": ".py",
   "mimetype": "text/x-python",
   "name": "python",
   "nbconvert_exporter": "python",
   "pygments_lexer": "ipython3",
   "version": "3.11.9"
  }
 },
 "nbformat": 4,
 "nbformat_minor": 5
}
